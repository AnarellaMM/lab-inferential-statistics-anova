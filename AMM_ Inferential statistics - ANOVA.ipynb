{
 "cells": [
  {
   "cell_type": "markdown",
   "id": "1c2f3603-4765-4121-b0b8-bc1c809ce77c",
   "metadata": {},
   "source": [
    "**<font size=\"5\">Part 1: Steps for setting up ANOVA</font>**\n",
    "\n",
    "**Null Hypothesis ($H_0$)**:\n",
    "The null hypothesis states that there is no significant difference in the mean etching rate for different levels of power in the plasma beam.\n",
    "\n",
    "**Alternate Hypothesis ($H_1$):**\n",
    "The alternate hypothesis states that there is a significant difference in the mean etching rate for different levels of power in the plasma beam.\n",
    "\n",
    "**Level of Significance ($\\alpha$):**\n",
    "The level of significance is typically set beforehand and represents the probability of making a Type I error (rejecting the null hypothesis when it's true). Common choices for $\\alpha$ are 0.05 or 0.01.\n",
    "\n",
    "**Test Statistic:**\n",
    "For ANOVA, the test statistic used is the F-statistic. It measures the ratio of variance between group means to the variance within groups. A larger F-statistic suggests a higher likelihood of a significant difference between group means.\n",
    "\n",
    "**P-value:**\n",
    "The p-value is the probability of observing the test statistic (or a more extreme value) under the assumption that the null hypothesis is true. A small p-value (typically less than the chosen $\\alpha$) indicates that the data provides enough evidence to reject the null hypothesis.\n",
    "\n",
    "**F Table:**\n",
    "An F table is a statistical table that provides critical values of the F-distribution for different degrees of freedom and significance levels. These critical values are used to determine whether the calculated F-statistic is significant.\n",
    "\n",
    "**Degrees of Freedom (DoF):**\n",
    "\n",
    "Model DoF: Equal to the number of groups minus 1. In this case, if you have 'n' different power levels, the model DoF would be 'n - 1'.\n",
    "Error Terms DoF: Equal to the total number of data points minus the total number of groups. If you have 'N' total data points and 'n' groups, the error terms DoF would be 'N - n'.\n",
    "Total DoF: Equal to the total number of data points minus 1. It represents the total variability in the data."
   ]
  },
  {
   "cell_type": "markdown",
   "id": "fba6b5e2-6d17-4ad1-b609-6ef37424ac87",
   "metadata": {},
   "source": [
    "**<font size=\"5\">PART 2</font>**"
   ]
  },
  {
   "cell_type": "code",
   "execution_count": 1,
   "id": "bf26f9e3-5a8e-4d07-b543-ae285939f94a",
   "metadata": {},
   "outputs": [],
   "source": [
    "import pandas as pd\n",
    "from scipy.stats import f_oneway"
   ]
  },
  {
   "cell_type": "code",
   "execution_count": 2,
   "id": "018b260a-5107-479d-832e-27fc97a5eee0",
   "metadata": {},
   "outputs": [],
   "source": [
    "data = pd.read_excel('anova_lab_data.xlsx')"
   ]
  },
  {
   "cell_type": "code",
   "execution_count": 3,
   "id": "302bcee4-92ea-4b6a-8b8a-64d89941289c",
   "metadata": {},
   "outputs": [
    {
     "name": "stdout",
     "output_type": "stream",
     "text": [
      "   Power   Etching Rate\n",
      "0   160 W          5.43\n",
      "1   180 W          6.24\n",
      "2   200 W          8.79\n",
      "3   160 W          5.71\n",
      "4   180 W          6.71\n",
      "5   200 W          9.20\n",
      "6   160 W          6.22\n",
      "7   180 W          5.98\n",
      "8   200 W          7.90\n",
      "9   160 W          6.01\n",
      "10  180 W          5.66\n",
      "11  200 W          8.15\n",
      "12  160 W          5.59\n",
      "13  180 W          6.60\n",
      "14  200 W          7.55\n"
     ]
    }
   ],
   "source": [
    "print(data)"
   ]
  },
  {
   "cell_type": "code",
   "execution_count": 5,
   "id": "2dc3ad70-5d0b-4af8-b2da-27c84f0893af",
   "metadata": {},
   "outputs": [
    {
     "name": "stdout",
     "output_type": "stream",
     "text": [
      "Index(['Power ', 'Etching Rate'], dtype='object')\n"
     ]
    }
   ],
   "source": [
    "print(data.columns)"
   ]
  },
  {
   "cell_type": "code",
   "execution_count": 8,
   "id": "378a2911-9865-4a41-b9ef-a0dca9cbd45a",
   "metadata": {},
   "outputs": [
    {
     "name": "stdout",
     "output_type": "stream",
     "text": [
      "F-statistic: 36.87895470100505\n",
      "P-value: 7.506584272358903e-06\n"
     ]
    }
   ],
   "source": [
    "groups = data['Power ']\n",
    "etching_rates = data['Etching Rate']\n",
    "\n",
    "F_statistic, p_value = f_oneway(*[etching_rates[groups == group] for group in groups.unique()])\n",
    "\n",
    "print(\"F-statistic:\", F_statistic)\n",
    "print(\"P-value:\", p_value)"
   ]
  },
  {
   "cell_type": "markdown",
   "id": "31dd088e-32bf-42a3-b7e1-1448deda1cd5",
   "metadata": {},
   "source": [
    "The **F-statistic** is high at around **36.88**, which means there are likely differences in etching rates when we change the power.\n",
    "\n",
    "The **p-value** is very low, almost **0**. This suggests the differences are not random chance, showing that changing the power significantly affects etching rates.\n",
    "\n",
    "In simple terms, the power changes seem to be causing real differences in how fast the machine etches."
   ]
  },
  {
   "cell_type": "code",
   "execution_count": 11,
   "id": "0c466713-61eb-47c6-99be-b64074d40d20",
   "metadata": {},
   "outputs": [
    {
     "name": "stdout",
     "output_type": "stream",
     "text": [
      "Reject the null hypothesis. There is a significant difference in mean etching rates.\n"
     ]
    }
   ],
   "source": [
    "alpha = 0.05 \n",
    "if p_value < alpha:\n",
    "    print(\"Reject the null hypothesis. There is a significant difference in mean etching rates.\")\n",
    "else:\n",
    "    print(\"Fail to reject the null hypothesis. There is no significant difference in mean etching rates.\")"
   ]
  },
  {
   "cell_type": "markdown",
   "id": "003a5596-36d8-40ab-9499-d690daa1b4ef",
   "metadata": {},
   "source": [
    "We can conclude that changing the power of the plasma beam does make a significant difference in how fast the machine etches."
   ]
  },
  {
   "cell_type": "code",
   "execution_count": null,
   "id": "81cc2d6b-2ae5-4b27-93df-9af7fee7fdad",
   "metadata": {},
   "outputs": [],
   "source": []
  }
 ],
 "metadata": {
  "kernelspec": {
   "display_name": "Python 3 (ipykernel)",
   "language": "python",
   "name": "python3"
  },
  "language_info": {
   "codemirror_mode": {
    "name": "ipython",
    "version": 3
   },
   "file_extension": ".py",
   "mimetype": "text/x-python",
   "name": "python",
   "nbconvert_exporter": "python",
   "pygments_lexer": "ipython3",
   "version": "3.10.9"
  }
 },
 "nbformat": 4,
 "nbformat_minor": 5
}
